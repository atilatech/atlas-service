{
  "nbformat": 4,
  "nbformat_minor": 0,
  "metadata": {
    "colab": {
      "provenance": [],
      "toc_visible": true,
      "authorship_tag": "ABX9TyMQBOde5fF17CsFcs+ynM1I",
      "include_colab_link": true
    },
    "kernelspec": {
      "name": "python3",
      "display_name": "Python 3"
    },
    "language_info": {
      "name": "python"
    },
    "accelerator": "GPU",
    "gpuClass": "standard",
    "widgets": {
      "application/vnd.jupyter.widget-state+json": {
        "4d97b0fcee7d4a76baf6d3f3d584c4d8": {
          "model_module": "@jupyter-widgets/controls",
          "model_name": "HBoxModel",
          "model_module_version": "1.5.0",
          "state": {
            "_dom_classes": [],
            "_model_module": "@jupyter-widgets/controls",
            "_model_module_version": "1.5.0",
            "_model_name": "HBoxModel",
            "_view_count": null,
            "_view_module": "@jupyter-widgets/controls",
            "_view_module_version": "1.5.0",
            "_view_name": "HBoxView",
            "box_style": "",
            "children": [
              "IPY_MODEL_fa30b0cec8864e50974d63f5e2a0888e",
              "IPY_MODEL_e9207a2f31ad4bc4b33a39aebfdf81f3",
              "IPY_MODEL_45ded80fdeda477ba00cee260fde5a99"
            ],
            "layout": "IPY_MODEL_c1d0e177a2754cafaf607be8d879c0c0"
          }
        },
        "fa30b0cec8864e50974d63f5e2a0888e": {
          "model_module": "@jupyter-widgets/controls",
          "model_name": "HTMLModel",
          "model_module_version": "1.5.0",
          "state": {
            "_dom_classes": [],
            "_model_module": "@jupyter-widgets/controls",
            "_model_module_version": "1.5.0",
            "_model_name": "HTMLModel",
            "_view_count": null,
            "_view_module": "@jupyter-widgets/controls",
            "_view_module_version": "1.5.0",
            "_view_name": "HTMLView",
            "description": "",
            "description_tooltip": null,
            "layout": "IPY_MODEL_9ce2ba039ecb452aac80e8b9de7242e4",
            "placeholder": "​",
            "style": "IPY_MODEL_7b3f5363f33545128c76319c8e3bf06a",
            "value": "100%"
          }
        },
        "e9207a2f31ad4bc4b33a39aebfdf81f3": {
          "model_module": "@jupyter-widgets/controls",
          "model_name": "FloatProgressModel",
          "model_module_version": "1.5.0",
          "state": {
            "_dom_classes": [],
            "_model_module": "@jupyter-widgets/controls",
            "_model_module_version": "1.5.0",
            "_model_name": "FloatProgressModel",
            "_view_count": null,
            "_view_module": "@jupyter-widgets/controls",
            "_view_module_version": "1.5.0",
            "_view_name": "ProgressView",
            "bar_style": "success",
            "description": "",
            "description_tooltip": null,
            "layout": "IPY_MODEL_4a7d733ffaf540d691cfbb3df202ec27",
            "max": 31,
            "min": 0,
            "orientation": "horizontal",
            "style": "IPY_MODEL_f435804ba7344f459312fbef197b35b7",
            "value": 31
          }
        },
        "45ded80fdeda477ba00cee260fde5a99": {
          "model_module": "@jupyter-widgets/controls",
          "model_name": "HTMLModel",
          "model_module_version": "1.5.0",
          "state": {
            "_dom_classes": [],
            "_model_module": "@jupyter-widgets/controls",
            "_model_module_version": "1.5.0",
            "_model_name": "HTMLModel",
            "_view_count": null,
            "_view_module": "@jupyter-widgets/controls",
            "_view_module_version": "1.5.0",
            "_view_name": "HTMLView",
            "description": "",
            "description_tooltip": null,
            "layout": "IPY_MODEL_1338b8a5a1394738b17b0d58b4ca3e1b",
            "placeholder": "​",
            "style": "IPY_MODEL_2b943d411f364018a9ebdd8002ba55d0",
            "value": " 31/31 [00:00&lt;00:00, 1037.80it/s]"
          }
        },
        "c1d0e177a2754cafaf607be8d879c0c0": {
          "model_module": "@jupyter-widgets/base",
          "model_name": "LayoutModel",
          "model_module_version": "1.2.0",
          "state": {
            "_model_module": "@jupyter-widgets/base",
            "_model_module_version": "1.2.0",
            "_model_name": "LayoutModel",
            "_view_count": null,
            "_view_module": "@jupyter-widgets/base",
            "_view_module_version": "1.2.0",
            "_view_name": "LayoutView",
            "align_content": null,
            "align_items": null,
            "align_self": null,
            "border": null,
            "bottom": null,
            "display": null,
            "flex": null,
            "flex_flow": null,
            "grid_area": null,
            "grid_auto_columns": null,
            "grid_auto_flow": null,
            "grid_auto_rows": null,
            "grid_column": null,
            "grid_gap": null,
            "grid_row": null,
            "grid_template_areas": null,
            "grid_template_columns": null,
            "grid_template_rows": null,
            "height": null,
            "justify_content": null,
            "justify_items": null,
            "left": null,
            "margin": null,
            "max_height": null,
            "max_width": null,
            "min_height": null,
            "min_width": null,
            "object_fit": null,
            "object_position": null,
            "order": null,
            "overflow": null,
            "overflow_x": null,
            "overflow_y": null,
            "padding": null,
            "right": null,
            "top": null,
            "visibility": null,
            "width": null
          }
        },
        "9ce2ba039ecb452aac80e8b9de7242e4": {
          "model_module": "@jupyter-widgets/base",
          "model_name": "LayoutModel",
          "model_module_version": "1.2.0",
          "state": {
            "_model_module": "@jupyter-widgets/base",
            "_model_module_version": "1.2.0",
            "_model_name": "LayoutModel",
            "_view_count": null,
            "_view_module": "@jupyter-widgets/base",
            "_view_module_version": "1.2.0",
            "_view_name": "LayoutView",
            "align_content": null,
            "align_items": null,
            "align_self": null,
            "border": null,
            "bottom": null,
            "display": null,
            "flex": null,
            "flex_flow": null,
            "grid_area": null,
            "grid_auto_columns": null,
            "grid_auto_flow": null,
            "grid_auto_rows": null,
            "grid_column": null,
            "grid_gap": null,
            "grid_row": null,
            "grid_template_areas": null,
            "grid_template_columns": null,
            "grid_template_rows": null,
            "height": null,
            "justify_content": null,
            "justify_items": null,
            "left": null,
            "margin": null,
            "max_height": null,
            "max_width": null,
            "min_height": null,
            "min_width": null,
            "object_fit": null,
            "object_position": null,
            "order": null,
            "overflow": null,
            "overflow_x": null,
            "overflow_y": null,
            "padding": null,
            "right": null,
            "top": null,
            "visibility": null,
            "width": null
          }
        },
        "7b3f5363f33545128c76319c8e3bf06a": {
          "model_module": "@jupyter-widgets/controls",
          "model_name": "DescriptionStyleModel",
          "model_module_version": "1.5.0",
          "state": {
            "_model_module": "@jupyter-widgets/controls",
            "_model_module_version": "1.5.0",
            "_model_name": "DescriptionStyleModel",
            "_view_count": null,
            "_view_module": "@jupyter-widgets/base",
            "_view_module_version": "1.2.0",
            "_view_name": "StyleView",
            "description_width": ""
          }
        },
        "4a7d733ffaf540d691cfbb3df202ec27": {
          "model_module": "@jupyter-widgets/base",
          "model_name": "LayoutModel",
          "model_module_version": "1.2.0",
          "state": {
            "_model_module": "@jupyter-widgets/base",
            "_model_module_version": "1.2.0",
            "_model_name": "LayoutModel",
            "_view_count": null,
            "_view_module": "@jupyter-widgets/base",
            "_view_module_version": "1.2.0",
            "_view_name": "LayoutView",
            "align_content": null,
            "align_items": null,
            "align_self": null,
            "border": null,
            "bottom": null,
            "display": null,
            "flex": null,
            "flex_flow": null,
            "grid_area": null,
            "grid_auto_columns": null,
            "grid_auto_flow": null,
            "grid_auto_rows": null,
            "grid_column": null,
            "grid_gap": null,
            "grid_row": null,
            "grid_template_areas": null,
            "grid_template_columns": null,
            "grid_template_rows": null,
            "height": null,
            "justify_content": null,
            "justify_items": null,
            "left": null,
            "margin": null,
            "max_height": null,
            "max_width": null,
            "min_height": null,
            "min_width": null,
            "object_fit": null,
            "object_position": null,
            "order": null,
            "overflow": null,
            "overflow_x": null,
            "overflow_y": null,
            "padding": null,
            "right": null,
            "top": null,
            "visibility": null,
            "width": null
          }
        },
        "f435804ba7344f459312fbef197b35b7": {
          "model_module": "@jupyter-widgets/controls",
          "model_name": "ProgressStyleModel",
          "model_module_version": "1.5.0",
          "state": {
            "_model_module": "@jupyter-widgets/controls",
            "_model_module_version": "1.5.0",
            "_model_name": "ProgressStyleModel",
            "_view_count": null,
            "_view_module": "@jupyter-widgets/base",
            "_view_module_version": "1.2.0",
            "_view_name": "StyleView",
            "bar_color": null,
            "description_width": ""
          }
        },
        "1338b8a5a1394738b17b0d58b4ca3e1b": {
          "model_module": "@jupyter-widgets/base",
          "model_name": "LayoutModel",
          "model_module_version": "1.2.0",
          "state": {
            "_model_module": "@jupyter-widgets/base",
            "_model_module_version": "1.2.0",
            "_model_name": "LayoutModel",
            "_view_count": null,
            "_view_module": "@jupyter-widgets/base",
            "_view_module_version": "1.2.0",
            "_view_name": "LayoutView",
            "align_content": null,
            "align_items": null,
            "align_self": null,
            "border": null,
            "bottom": null,
            "display": null,
            "flex": null,
            "flex_flow": null,
            "grid_area": null,
            "grid_auto_columns": null,
            "grid_auto_flow": null,
            "grid_auto_rows": null,
            "grid_column": null,
            "grid_gap": null,
            "grid_row": null,
            "grid_template_areas": null,
            "grid_template_columns": null,
            "grid_template_rows": null,
            "height": null,
            "justify_content": null,
            "justify_items": null,
            "left": null,
            "margin": null,
            "max_height": null,
            "max_width": null,
            "min_height": null,
            "min_width": null,
            "object_fit": null,
            "object_position": null,
            "order": null,
            "overflow": null,
            "overflow_x": null,
            "overflow_y": null,
            "padding": null,
            "right": null,
            "top": null,
            "visibility": null,
            "width": null
          }
        },
        "2b943d411f364018a9ebdd8002ba55d0": {
          "model_module": "@jupyter-widgets/controls",
          "model_name": "DescriptionStyleModel",
          "model_module_version": "1.5.0",
          "state": {
            "_model_module": "@jupyter-widgets/controls",
            "_model_module_version": "1.5.0",
            "_model_name": "DescriptionStyleModel",
            "_view_count": null,
            "_view_module": "@jupyter-widgets/base",
            "_view_module_version": "1.2.0",
            "_view_name": "StyleView",
            "description_width": ""
          }
        },
        "40db1f72642e41e3a95c340f2f499593": {
          "model_module": "@jupyter-widgets/controls",
          "model_name": "HBoxModel",
          "model_module_version": "1.5.0",
          "state": {
            "_dom_classes": [],
            "_model_module": "@jupyter-widgets/controls",
            "_model_module_version": "1.5.0",
            "_model_name": "HBoxModel",
            "_view_count": null,
            "_view_module": "@jupyter-widgets/controls",
            "_view_module_version": "1.5.0",
            "_view_name": "HBoxView",
            "box_style": "",
            "children": [
              "IPY_MODEL_7b8c244095b64e43abff35e9b5b98ee1",
              "IPY_MODEL_450c48ff50ba4758865ff0bca6d41f73",
              "IPY_MODEL_71117b168ed74fd298bf22c9a2e0f78f"
            ],
            "layout": "IPY_MODEL_0c1d1143c4164c1aa368784f8d24064f"
          }
        },
        "7b8c244095b64e43abff35e9b5b98ee1": {
          "model_module": "@jupyter-widgets/controls",
          "model_name": "HTMLModel",
          "model_module_version": "1.5.0",
          "state": {
            "_dom_classes": [],
            "_model_module": "@jupyter-widgets/controls",
            "_model_module_version": "1.5.0",
            "_model_name": "HTMLModel",
            "_view_count": null,
            "_view_module": "@jupyter-widgets/controls",
            "_view_module_version": "1.5.0",
            "_view_name": "HTMLView",
            "description": "",
            "description_tooltip": null,
            "layout": "IPY_MODEL_bbfacfc307374eef80cff7529516d311",
            "placeholder": "​",
            "style": "IPY_MODEL_5d9e675948624c3280c21cea837c1f00",
            "value": "100%"
          }
        },
        "450c48ff50ba4758865ff0bca6d41f73": {
          "model_module": "@jupyter-widgets/controls",
          "model_name": "FloatProgressModel",
          "model_module_version": "1.5.0",
          "state": {
            "_dom_classes": [],
            "_model_module": "@jupyter-widgets/controls",
            "_model_module_version": "1.5.0",
            "_model_name": "FloatProgressModel",
            "_view_count": null,
            "_view_module": "@jupyter-widgets/controls",
            "_view_module_version": "1.5.0",
            "_view_name": "ProgressView",
            "bar_style": "success",
            "description": "",
            "description_tooltip": null,
            "layout": "IPY_MODEL_e69d33cb4fb04653b15ad5e5b3574a80",
            "max": 1,
            "min": 0,
            "orientation": "horizontal",
            "style": "IPY_MODEL_ee7ef5b863094630aad476b6b347767d",
            "value": 1
          }
        },
        "71117b168ed74fd298bf22c9a2e0f78f": {
          "model_module": "@jupyter-widgets/controls",
          "model_name": "HTMLModel",
          "model_module_version": "1.5.0",
          "state": {
            "_dom_classes": [],
            "_model_module": "@jupyter-widgets/controls",
            "_model_module_version": "1.5.0",
            "_model_name": "HTMLModel",
            "_view_count": null,
            "_view_module": "@jupyter-widgets/controls",
            "_view_module_version": "1.5.0",
            "_view_name": "HTMLView",
            "description": "",
            "description_tooltip": null,
            "layout": "IPY_MODEL_dd42faca016e4872afc6884eb3116ee2",
            "placeholder": "​",
            "style": "IPY_MODEL_bfeb3d4e2f774295a4e72685021aa428",
            "value": " 1/1 [00:15&lt;00:00, 15.39s/it]"
          }
        },
        "0c1d1143c4164c1aa368784f8d24064f": {
          "model_module": "@jupyter-widgets/base",
          "model_name": "LayoutModel",
          "model_module_version": "1.2.0",
          "state": {
            "_model_module": "@jupyter-widgets/base",
            "_model_module_version": "1.2.0",
            "_model_name": "LayoutModel",
            "_view_count": null,
            "_view_module": "@jupyter-widgets/base",
            "_view_module_version": "1.2.0",
            "_view_name": "LayoutView",
            "align_content": null,
            "align_items": null,
            "align_self": null,
            "border": null,
            "bottom": null,
            "display": null,
            "flex": null,
            "flex_flow": null,
            "grid_area": null,
            "grid_auto_columns": null,
            "grid_auto_flow": null,
            "grid_auto_rows": null,
            "grid_column": null,
            "grid_gap": null,
            "grid_row": null,
            "grid_template_areas": null,
            "grid_template_columns": null,
            "grid_template_rows": null,
            "height": null,
            "justify_content": null,
            "justify_items": null,
            "left": null,
            "margin": null,
            "max_height": null,
            "max_width": null,
            "min_height": null,
            "min_width": null,
            "object_fit": null,
            "object_position": null,
            "order": null,
            "overflow": null,
            "overflow_x": null,
            "overflow_y": null,
            "padding": null,
            "right": null,
            "top": null,
            "visibility": null,
            "width": null
          }
        },
        "bbfacfc307374eef80cff7529516d311": {
          "model_module": "@jupyter-widgets/base",
          "model_name": "LayoutModel",
          "model_module_version": "1.2.0",
          "state": {
            "_model_module": "@jupyter-widgets/base",
            "_model_module_version": "1.2.0",
            "_model_name": "LayoutModel",
            "_view_count": null,
            "_view_module": "@jupyter-widgets/base",
            "_view_module_version": "1.2.0",
            "_view_name": "LayoutView",
            "align_content": null,
            "align_items": null,
            "align_self": null,
            "border": null,
            "bottom": null,
            "display": null,
            "flex": null,
            "flex_flow": null,
            "grid_area": null,
            "grid_auto_columns": null,
            "grid_auto_flow": null,
            "grid_auto_rows": null,
            "grid_column": null,
            "grid_gap": null,
            "grid_row": null,
            "grid_template_areas": null,
            "grid_template_columns": null,
            "grid_template_rows": null,
            "height": null,
            "justify_content": null,
            "justify_items": null,
            "left": null,
            "margin": null,
            "max_height": null,
            "max_width": null,
            "min_height": null,
            "min_width": null,
            "object_fit": null,
            "object_position": null,
            "order": null,
            "overflow": null,
            "overflow_x": null,
            "overflow_y": null,
            "padding": null,
            "right": null,
            "top": null,
            "visibility": null,
            "width": null
          }
        },
        "5d9e675948624c3280c21cea837c1f00": {
          "model_module": "@jupyter-widgets/controls",
          "model_name": "DescriptionStyleModel",
          "model_module_version": "1.5.0",
          "state": {
            "_model_module": "@jupyter-widgets/controls",
            "_model_module_version": "1.5.0",
            "_model_name": "DescriptionStyleModel",
            "_view_count": null,
            "_view_module": "@jupyter-widgets/base",
            "_view_module_version": "1.2.0",
            "_view_name": "StyleView",
            "description_width": ""
          }
        },
        "e69d33cb4fb04653b15ad5e5b3574a80": {
          "model_module": "@jupyter-widgets/base",
          "model_name": "LayoutModel",
          "model_module_version": "1.2.0",
          "state": {
            "_model_module": "@jupyter-widgets/base",
            "_model_module_version": "1.2.0",
            "_model_name": "LayoutModel",
            "_view_count": null,
            "_view_module": "@jupyter-widgets/base",
            "_view_module_version": "1.2.0",
            "_view_name": "LayoutView",
            "align_content": null,
            "align_items": null,
            "align_self": null,
            "border": null,
            "bottom": null,
            "display": null,
            "flex": null,
            "flex_flow": null,
            "grid_area": null,
            "grid_auto_columns": null,
            "grid_auto_flow": null,
            "grid_auto_rows": null,
            "grid_column": null,
            "grid_gap": null,
            "grid_row": null,
            "grid_template_areas": null,
            "grid_template_columns": null,
            "grid_template_rows": null,
            "height": null,
            "justify_content": null,
            "justify_items": null,
            "left": null,
            "margin": null,
            "max_height": null,
            "max_width": null,
            "min_height": null,
            "min_width": null,
            "object_fit": null,
            "object_position": null,
            "order": null,
            "overflow": null,
            "overflow_x": null,
            "overflow_y": null,
            "padding": null,
            "right": null,
            "top": null,
            "visibility": null,
            "width": null
          }
        },
        "ee7ef5b863094630aad476b6b347767d": {
          "model_module": "@jupyter-widgets/controls",
          "model_name": "ProgressStyleModel",
          "model_module_version": "1.5.0",
          "state": {
            "_model_module": "@jupyter-widgets/controls",
            "_model_module_version": "1.5.0",
            "_model_name": "ProgressStyleModel",
            "_view_count": null,
            "_view_module": "@jupyter-widgets/base",
            "_view_module_version": "1.2.0",
            "_view_name": "StyleView",
            "bar_color": null,
            "description_width": ""
          }
        },
        "dd42faca016e4872afc6884eb3116ee2": {
          "model_module": "@jupyter-widgets/base",
          "model_name": "LayoutModel",
          "model_module_version": "1.2.0",
          "state": {
            "_model_module": "@jupyter-widgets/base",
            "_model_module_version": "1.2.0",
            "_model_name": "LayoutModel",
            "_view_count": null,
            "_view_module": "@jupyter-widgets/base",
            "_view_module_version": "1.2.0",
            "_view_name": "LayoutView",
            "align_content": null,
            "align_items": null,
            "align_self": null,
            "border": null,
            "bottom": null,
            "display": null,
            "flex": null,
            "flex_flow": null,
            "grid_area": null,
            "grid_auto_columns": null,
            "grid_auto_flow": null,
            "grid_auto_rows": null,
            "grid_column": null,
            "grid_gap": null,
            "grid_row": null,
            "grid_template_areas": null,
            "grid_template_columns": null,
            "grid_template_rows": null,
            "height": null,
            "justify_content": null,
            "justify_items": null,
            "left": null,
            "margin": null,
            "max_height": null,
            "max_width": null,
            "min_height": null,
            "min_width": null,
            "object_fit": null,
            "object_position": null,
            "order": null,
            "overflow": null,
            "overflow_x": null,
            "overflow_y": null,
            "padding": null,
            "right": null,
            "top": null,
            "visibility": null,
            "width": null
          }
        },
        "bfeb3d4e2f774295a4e72685021aa428": {
          "model_module": "@jupyter-widgets/controls",
          "model_name": "DescriptionStyleModel",
          "model_module_version": "1.5.0",
          "state": {
            "_model_module": "@jupyter-widgets/controls",
            "_model_module_version": "1.5.0",
            "_model_name": "DescriptionStyleModel",
            "_view_count": null,
            "_view_module": "@jupyter-widgets/base",
            "_view_module_version": "1.2.0",
            "_view_name": "StyleView",
            "description_width": ""
          }
        }
      }
    }
  },
  "cells": [
    {
      "cell_type": "markdown",
      "metadata": {
        "id": "view-in-github",
        "colab_type": "text"
      },
      "source": [
        "<a href=\"https://colab.research.google.com/github/atilatech/atlas-service/blob/master/notebooks/deploy_whisper_huggingface.ipynb\" target=\"_parent\"><img src=\"https://colab.research.google.com/assets/colab-badge.svg\" alt=\"Open In Colab\"/></a>"
      ]
    },
    {
      "cell_type": "markdown",
      "source": [
        "# Deploy Whisper Model to HuggingFace"
      ],
      "metadata": {
        "id": "fiKqeBJ9zf0w"
      }
    },
    {
      "cell_type": "markdown",
      "source": [
        "### Install Dependencies"
      ],
      "metadata": {
        "id": "_CKA6Yhfz3Hn"
      }
    },
    {
      "cell_type": "code",
      "source": [
        "!pip install transformers pytube\n",
        "\n",
        "# optional install pytorch so you can use a gpu for faster transcription\n",
        "# command below is for Linux. See instructions for mac and windows: https://pytorch.org/get-started/locally/\n",
        "!pip3 install torch torchvision torchaudio --extra-index-url https://download.pytorch.org/whl/cpu\n",
        "\n",
        "!pip install git+https://github.com/openai/whisper.git -q\n",
        "!apt install ffmpeg # https://stackoverflow.com/questions/51856340/how-to-install-package-ffmpeg-in-google-colab"
      ],
      "metadata": {
        "id": "pojSykoTUB6I"
      },
      "execution_count": null,
      "outputs": []
    },
    {
      "cell_type": "markdown",
      "source": [
        "# Create a Custom inference handler"
      ],
      "metadata": {
        "id": "kW7gBEJpgsDE"
      }
    },
    {
      "cell_type": "code",
      "source": [
        "import whisper\n",
        "import torch\n",
        "import pytube\n",
        "from typing import  Dict\n",
        "import time\n",
        "\n",
        "\n",
        "class EndpointHandler():\n",
        "    def __init__(self, path=\"\"):\n",
        "        # load the model\n",
        "        MODEL_NAME = \"tiny.en\"\n",
        "        \n",
        "        device = \"cuda\" if torch.cuda.is_available() else \"cpu\"\n",
        "        print(f'whisper will use: {device}')\n",
        "        \n",
        "        t0 = time.time()\n",
        "        self.model = whisper.load_model(MODEL_NAME).to(device)\n",
        "        t1 = time.time()\n",
        "        \n",
        "        total = t1-t0\n",
        "        print(f'Finished loading model in {total} seconds')\n",
        "\n",
        "\n",
        "    def __call__(self, data: Dict[str, bytes]) -> Dict[str, str]:\n",
        "        \"\"\"\n",
        "        Args:\n",
        "            data (:obj:):\n",
        "                includes the URL to video for transcription\n",
        "        Return:\n",
        "            A :obj:`dict`:. transcribed dict\n",
        "        \"\"\"\n",
        "        # process input\n",
        "        print('data', data)\n",
        "        video_url = data.pop(\"inputs\", data)\n",
        "        decode_options = {\n",
        "            # Set language to None to support multilingual, \n",
        "            # but it will take longer to process while it detects the language.\n",
        "            # Realized this by running in verbose mode and seeing how much time\n",
        "            # was spent on the decoding language step\n",
        "            \"language\":\"en\",\n",
        "            \"verbose\": True\n",
        "        }\n",
        "        yt = pytube.YouTube(video_url)\n",
        "        video_info = {\n",
        "            'id': yt.video_id,\n",
        "            'thumbnail': yt.thumbnail_url,\n",
        "            'title': yt.title,\n",
        "            'views': yt.views,\n",
        "            'length': yt.length,\n",
        "            # redundant since we already have id but it allows the \n",
        "            # link to the video be accessed in 1-click in the API response\n",
        "            'url': f\"https://www.youtube.com/watch?v={yt.video_id}\"\n",
        "        }\n",
        "        stream = yt.streams.filter(only_audio=True)[0]\n",
        "        path_to_audio = f\"{yt.video_id}.mp3\"\n",
        "        stream.download(filename=path_to_audio)\n",
        "        t0 = time.time()\n",
        "        transcript = self.model.transcribe(path_to_audio, **decode_options)\n",
        "        t1 = time.time()\n",
        "        for segment in transcript['segments']:\n",
        "          # Remove the tokens field\n",
        "          segment.pop('tokens', None)\n",
        "        \n",
        "        total = t1-t0\n",
        "        print(f'Finished transcription in {total} seconds')\n",
        "\n",
        "        # postprocess the prediction\n",
        "        return {\"transcript\": transcript, 'video': video_info}\n"
      ],
      "metadata": {
        "id": "JAc8Yxdggumo"
      },
      "execution_count": 43,
      "outputs": []
    },
    {
      "cell_type": "code",
      "source": [
        "# Use Handler\n",
        "\n",
        "my_handler = EndpointHandler(path=\".\")\n",
        "\n",
        "# prepare sample payload\n",
        "payload = {\"inputs\": \"https://www.youtube.com/watch?v=aNxigRg1yEQ\"}\n",
        "\n",
        "# test the handler\n",
        "payload_pred=my_handler(payload)\n",
        "payload_pred"
      ],
      "metadata": {
        "id": "FlPfk9CDg6UP"
      },
      "execution_count": null,
      "outputs": []
    },
    {
      "cell_type": "code",
      "source": [
        "payload_pred"
      ],
      "metadata": {
        "id": "mQlIqL13hVx6"
      },
      "execution_count": null,
      "outputs": []
    },
    {
      "cell_type": "markdown",
      "source": [
        "# Vectorize Transcripts\n",
        "\n",
        "1. Call the deployed API we created in the last step\n",
        "\n",
        "1. Combine 6 segments together to create more meaningful sentences\n",
        "\n",
        "1. Embed sentences into vectors using transformers\n",
        "\n",
        "1. Save vectors into a vector database\n",
        "\n",
        "1. Query phrases using vector database\n",
        "\n",
        "1. [Fixing YouTube Search with OpenAI's Whisper](https://www.pinecone.io/learn/openai-whisper/)"
      ],
      "metadata": {
        "id": "qD1xESiMoOad"
      }
    },
    {
      "cell_type": "code",
      "source": [
        "!pip install requests"
      ],
      "metadata": {
        "colab": {
          "base_uri": "https://localhost:8080/"
        },
        "id": "eFDHTYCGoN5k",
        "outputId": "6b611e49-7f38-407b-b249-0383c9e8dacd"
      },
      "execution_count": 36,
      "outputs": [
        {
          "output_type": "stream",
          "name": "stdout",
          "text": [
            "Looking in indexes: https://pypi.org/simple, https://us-python.pkg.dev/colab-wheels/public/simple/\n",
            "Requirement already satisfied: requests in /usr/local/lib/python3.8/dist-packages (2.23.0)\n",
            "Requirement already satisfied: idna<3,>=2.5 in /usr/local/lib/python3.8/dist-packages (from requests) (2.10)\n",
            "Requirement already satisfied: certifi>=2017.4.17 in /usr/local/lib/python3.8/dist-packages (from requests) (2022.12.7)\n",
            "Requirement already satisfied: urllib3!=1.25.0,!=1.25.1,<1.26,>=1.21.1 in /usr/local/lib/python3.8/dist-packages (from requests) (1.24.3)\n",
            "Requirement already satisfied: chardet<4,>=3.0.2 in /usr/local/lib/python3.8/dist-packages (from requests) (3.0.4)\n"
          ]
        }
      ]
    },
    {
      "cell_type": "code",
      "source": [
        "from getpass import getpass\n",
        "\n",
        "HUGGING_FACE_ENDPOINT_URL = getpass('Enter HUGGING_FACE_ENDPOINT_URL')\n",
        "HUGGING_FACE_API_KEY = getpass('Enter HUGGING_FACE_API_KEY')\n"
      ],
      "metadata": {
        "colab": {
          "base_uri": "https://localhost:8080/"
        },
        "id": "FguK7Efesc-V",
        "outputId": "00cdf451-4e65-4b93-c5b5-ae9dc56fe6cd"
      },
      "execution_count": 49,
      "outputs": [
        {
          "name": "stdout",
          "output_type": "stream",
          "text": [
            "Enter HUGGING_FACE_ENDPOINT_URL··········\n",
            "Enter HUGGING_FACE_API_KEY··········\n"
          ]
        }
      ]
    },
    {
      "cell_type": "code",
      "source": [
        "import json\n",
        "from typing import List\n",
        "import requests\n",
        "import base64\n",
        "import mimetypes\n",
        "\n",
        "def send_transcription_request(url:str=None):\n",
        "    payload = json.dumps({\n",
        "      \"inputs\": video_url\n",
        "    })\n",
        "    headers = {\n",
        "      'Authorization': f'Bearer {HUGGING_FACE_API_KEY}',\n",
        "      'Content-Type': 'application/json'\n",
        "    }\n",
        "\n",
        "    response = requests.request(\"POST\", HUGGING_FACE_ENDPOINT_URL, headers=headers, data=payload)\n",
        "    return response.json()\n",
        "\n",
        "video_url=\"https://www.youtube.com/watch?v=bGk8qcHc1A0\" # Joe Rogan & Lex Fridman: Lionel Messi Is The GOAT Over Cristiano Ronaldo\n",
        "video_data = send_transcription_request(video_url)"
      ],
      "metadata": {
        "id": "GhdTGCYir7Yl"
      },
      "execution_count": 50,
      "outputs": []
    },
    {
      "cell_type": "code",
      "source": [
        "# verify that it worked\n",
        "video_data['transcript']['segments'][0]"
      ],
      "metadata": {
        "colab": {
          "base_uri": "https://localhost:8080/"
        },
        "id": "nxPiFCwh0hJO",
        "outputId": "d844bf7b-5115-45dd-d705-36349c932c60"
      },
      "execution_count": 52,
      "outputs": [
        {
          "output_type": "execute_result",
          "data": {
            "text/plain": [
              "{'id': 0,\n",
              " 'seek': 0,\n",
              " 'start': 0.0,\n",
              " 'end': 1.56,\n",
              " 'text': \" You're a part of mixed martial arts.\",\n",
              " 'temperature': 0.0,\n",
              " 'avg_logprob': -0.3029073941505561,\n",
              " 'compression_ratio': 1.6091549295774648,\n",
              " 'no_speech_prob': 0.13397082686424255}"
            ]
          },
          "metadata": {},
          "execution_count": 52
        }
      ]
    },
    {
      "cell_type": "markdown",
      "source": [
        "## Combine Transcript Segments"
      ],
      "metadata": {
        "id": "WaE_LCeWtsef"
      }
    },
    {
      "cell_type": "code",
      "source": [
        "!pip install tqdm"
      ],
      "metadata": {
        "colab": {
          "base_uri": "https://localhost:8080/"
        },
        "id": "fhT9RrLbt2_x",
        "outputId": "da5f5ec7-4eb1-43d5-ab59-9e286c20763c"
      },
      "execution_count": 40,
      "outputs": [
        {
          "output_type": "stream",
          "name": "stdout",
          "text": [
            "Looking in indexes: https://pypi.org/simple, https://us-python.pkg.dev/colab-wheels/public/simple/\n",
            "Requirement already satisfied: tqdm in /usr/local/lib/python3.8/dist-packages (4.64.1)\n"
          ]
        }
      ]
    },
    {
      "cell_type": "code",
      "source": [
        "from tqdm.auto import tqdm\n",
        "\n",
        "new_transcript_segments = []\n",
        "\n",
        "def combine_transcripts(video):\n",
        "  window = 6  # number of sentences to combine\n",
        "  stride = 3  # number of sentences to 'stride' over, used to create overlap\n",
        "\n",
        "  video_info=video['video']\n",
        "  transcript_segments=video['transcript']['segments']\n",
        "  for i in tqdm(range(0, len(transcript_segments), stride)):\n",
        "      i_end = min(len(transcript_segments)-1, i+window)\n",
        "      text = ' '.join(transcript['text'] \n",
        "                    for transcript in\n",
        "                    transcript_segments[i:i_end])\n",
        "      # TODO: Should int (float to seconds) conversion happen at the API level?\n",
        "      start=int(transcript_segments[i]['start'])\n",
        "      end=int(transcript_segments[i]['end'])\n",
        "      new_transcript_segments.append({\n",
        "          **video_info,\n",
        "          **{\n",
        "          'start': start,\n",
        "          'end': end,\n",
        "          'title': video_info['title'],\n",
        "          'text': text,\n",
        "          'id': f\"{video_info['id']}-t{start}\",\n",
        "          'url': f\"https://youtu.be/{video_info['id']}?t={start}\",\n",
        "          }\n",
        "      })\n",
        "  return new_transcript_segments\n",
        "combined_transcripts = combine_transcripts(video_data)"
      ],
      "metadata": {
        "colab": {
          "base_uri": "https://localhost:8080/",
          "height": 49,
          "referenced_widgets": [
            "4d97b0fcee7d4a76baf6d3f3d584c4d8",
            "fa30b0cec8864e50974d63f5e2a0888e",
            "e9207a2f31ad4bc4b33a39aebfdf81f3",
            "45ded80fdeda477ba00cee260fde5a99",
            "c1d0e177a2754cafaf607be8d879c0c0",
            "9ce2ba039ecb452aac80e8b9de7242e4",
            "7b3f5363f33545128c76319c8e3bf06a",
            "4a7d733ffaf540d691cfbb3df202ec27",
            "f435804ba7344f459312fbef197b35b7",
            "1338b8a5a1394738b17b0d58b4ca3e1b",
            "2b943d411f364018a9ebdd8002ba55d0"
          ]
        },
        "id": "yWMtgKIVt57o",
        "outputId": "121e607d-241b-48a8-b1ca-38f3ebb07d68"
      },
      "execution_count": 61,
      "outputs": [
        {
          "output_type": "display_data",
          "data": {
            "text/plain": [
              "  0%|          | 0/31 [00:00<?, ?it/s]"
            ],
            "application/vnd.jupyter.widget-view+json": {
              "version_major": 2,
              "version_minor": 0,
              "model_id": "4d97b0fcee7d4a76baf6d3f3d584c4d8"
            }
          },
          "metadata": {}
        }
      ]
    },
    {
      "cell_type": "code",
      "source": [
        "combined_transcripts[3]"
      ],
      "metadata": {
        "colab": {
          "base_uri": "https://localhost:8080/"
        },
        "id": "hrGxQwu5xT2W",
        "outputId": "06b54f07-c4b4-49c5-a57b-d81e9a83ccc7"
      },
      "execution_count": 75,
      "outputs": [
        {
          "output_type": "execute_result",
          "data": {
            "text/plain": [
              "{'id': 'bGk8qcHc1A0-t25',\n",
              " 'thumbnail': 'https://i.ytimg.com/vi/bGk8qcHc1A0/sddefault.jpg',\n",
              " 'title': 'Joe Rogan & Lex Fridman: Lionel Messi Is The GOAT Over Cristiano Ronaldo',\n",
              " 'views': 186879,\n",
              " 'length': 218,\n",
              " 'url': 'https://youtu.be/bGk8qcHc1A0?t=25',\n",
              " 'start': 25,\n",
              " 'end': 28,\n",
              " 'text': \" But what is the division?  They're just both incredible.  But what is it like who's better LeBron or Michael Jordan?  Is it like that kind of thing?  People get very passionate about that.  They extremely passionate.\"}"
            ]
          },
          "metadata": {},
          "execution_count": 75
        }
      ]
    },
    {
      "cell_type": "markdown",
      "source": [
        "# Convert Transcripts to Vectors\n",
        "\n",
        "1. Use Sentence Tranformers\n",
        "\n"
      ],
      "metadata": {
        "id": "IqWn4pwH2LTY"
      }
    },
    {
      "cell_type": "code",
      "source": [
        "!pip install -U sentence-transformers"
      ],
      "metadata": {
        "id": "J7MdtKx92Xzq"
      },
      "execution_count": null,
      "outputs": []
    },
    {
      "cell_type": "code",
      "source": [],
      "metadata": {
        "id": "usu0yQJ32YvF"
      },
      "execution_count": null,
      "outputs": []
    },
    {
      "cell_type": "markdown",
      "source": [
        "## Save Transcript Vectors to Vector Database\n",
        "\n"
      ],
      "metadata": {
        "id": "l6TVNeBz28RK"
      }
    },
    {
      "cell_type": "code",
      "source": [
        "!pip install pinecone-client"
      ],
      "metadata": {
        "id": "ckh9wGQI3C0A"
      },
      "execution_count": null,
      "outputs": []
    },
    {
      "cell_type": "code",
      "source": [
        "from getpass import getpass\n",
        "\n",
        "PINECONE_API_KEY = getpass('Enter PINECONE_API_KEY')"
      ],
      "metadata": {
        "colab": {
          "base_uri": "https://localhost:8080/"
        },
        "id": "_EmLw4-e32lh",
        "outputId": "d54fc514-559d-4ae4-f210-edb5ff5b6e61"
      },
      "execution_count": 70,
      "outputs": [
        {
          "name": "stdout",
          "output_type": "stream",
          "text": [
            "Enter PINECONE_API_KEY··········\n"
          ]
        }
      ]
    },
    {
      "cell_type": "code",
      "source": [
        "from sentence_transformers import SentenceTransformer\n",
        "\n",
        "model_id = \"multi-qa-mpnet-base-dot-v1\"\n",
        "\n",
        "sentence_transformer_model = SentenceTransformer(model_id)\n",
        "sentence_transformer_model\n",
        "\n",
        "dimensions = sentence_transformer_model.get_sentence_embedding_dimension()"
      ],
      "metadata": {
        "id": "LXJ9qqB74D1T"
      },
      "execution_count": 71,
      "outputs": []
    },
    {
      "cell_type": "code",
      "source": [
        "import pinecone  # !pip install pinecone-client\n",
        "\n",
        "index_id = \"youtube-search\"\n",
        "\n",
        "pinecone.init(\n",
        "    api_key=PINECONE_API_KEY,  # app.pinecone.io\n",
        "    environment=\"us-west1-gcp\"\n",
        ")\n",
        "\n",
        "if index_id not in pinecone.list_indexes():\n",
        "    pinecone.create_index(\n",
        "        index_id,\n",
        "        dimensions,\n",
        "        metric=\"dotproduct\"\n",
        "    )\n",
        "\n",
        "index = pinecone.Index(index_id)\n",
        "index.describe_index_stats()"
      ],
      "metadata": {
        "colab": {
          "base_uri": "https://localhost:8080/"
        },
        "id": "2xQI4C1C36fN",
        "outputId": "6d9b7ec9-d6e1-459c-f5e1-41f85c830c85"
      },
      "execution_count": 72,
      "outputs": [
        {
          "output_type": "execute_result",
          "data": {
            "text/plain": [
              "{'dimension': 768,\n",
              " 'index_fullness': 0.0,\n",
              " 'namespaces': {},\n",
              " 'total_vector_count': 0}"
            ]
          },
          "metadata": {},
          "execution_count": 72
        }
      ]
    },
    {
      "cell_type": "markdown",
      "source": [
        "### Upload to Vector Database"
      ],
      "metadata": {
        "id": "Q_277qCm5MiI"
      }
    },
    {
      "cell_type": "code",
      "source": [
        "# we encode and insert in batches of 64\n",
        "batch_size = 64\n",
        "\n",
        "# loop through in batches of 64\n",
        "for i in tqdm(range(0, len(combined_transcripts), batch_size)):\n",
        "    # find end position of batch (for when we hit end of data)\n",
        "    i_end = min(len(combined_transcripts)-1, i+batch_size)\n",
        "    # extract the metadata like text, start/end positions, etc\n",
        "    batch_meta = [{\n",
        "        **combined_transcripts[x]\n",
        "    } for x in range(i, i_end)]\n",
        "    # extract only text to be encoded by embedding model\n",
        "    batch_text = [\n",
        "        row['text'] for row in combined_transcripts[i:i_end]\n",
        "    ]\n",
        "    # create the embedding vectors\n",
        "    batch_embeds = sentence_transformer_model.encode(batch_text).tolist()\n",
        "    # extract IDs to be attached to each embedding and metadata\n",
        "    batch_ids = [\n",
        "        row['id'] for row in combined_transcripts[i:i_end]\n",
        "    ]\n",
        "    # 'upsert' (insert) IDs, embeddings, and metadata to index\n",
        "    to_upsert = list(zip(\n",
        "        batch_ids, batch_embeds, batch_meta\n",
        "    ))\n",
        "    index.upsert(to_upsert)"
      ],
      "metadata": {
        "colab": {
          "base_uri": "https://localhost:8080/",
          "height": 49,
          "referenced_widgets": [
            "40db1f72642e41e3a95c340f2f499593",
            "7b8c244095b64e43abff35e9b5b98ee1",
            "450c48ff50ba4758865ff0bca6d41f73",
            "71117b168ed74fd298bf22c9a2e0f78f",
            "0c1d1143c4164c1aa368784f8d24064f",
            "bbfacfc307374eef80cff7529516d311",
            "5d9e675948624c3280c21cea837c1f00",
            "e69d33cb4fb04653b15ad5e5b3574a80",
            "ee7ef5b863094630aad476b6b347767d",
            "dd42faca016e4872afc6884eb3116ee2",
            "bfeb3d4e2f774295a4e72685021aa428"
          ]
        },
        "id": "uB5Xmdgu5PMS",
        "outputId": "e11cb7b4-6587-4819-87f8-f619d974c433"
      },
      "execution_count": 78,
      "outputs": [
        {
          "output_type": "display_data",
          "data": {
            "text/plain": [
              "  0%|          | 0/1 [00:00<?, ?it/s]"
            ],
            "application/vnd.jupyter.widget-view+json": {
              "version_major": 2,
              "version_minor": 0,
              "model_id": "40db1f72642e41e3a95c340f2f499593"
            }
          },
          "metadata": {}
        }
      ]
    },
    {
      "cell_type": "markdown",
      "source": [
        "# Make Queries"
      ],
      "metadata": {
        "id": "KN2dkwvn5h5T"
      }
    },
    {
      "cell_type": "code",
      "source": [
        "query = \"basketball\"\n",
        "\n",
        "xq = sentence_transformer_model.encode(query).tolist()\n",
        "\n",
        "index.query(xq, top_k=5, include_metadata=True)"
      ],
      "metadata": {
        "colab": {
          "base_uri": "https://localhost:8080/"
        },
        "id": "PVIgtSKw5lCl",
        "outputId": "60150293-ffb7-4bd9-c99a-90916f989e54"
      },
      "execution_count": 79,
      "outputs": [
        {
          "output_type": "execute_result",
          "data": {
            "text/plain": [
              "{'matches': [{'id': 'bGk8qcHc1A0-t25',\n",
              "              'metadata': {'end': 28.0,\n",
              "                           'id': 'bGk8qcHc1A0-t25',\n",
              "                           'length': 218.0,\n",
              "                           'start': 25.0,\n",
              "                           'text': \" But what is the division?  They're just \"\n",
              "                                   'both incredible.  But what is it like '\n",
              "                                   \"who's better LeBron or Michael Jordan?  Is \"\n",
              "                                   'it like that kind of thing?  People get '\n",
              "                                   'very passionate about that.  They '\n",
              "                                   'extremely passionate.',\n",
              "                           'thumbnail': 'https://i.ytimg.com/vi/bGk8qcHc1A0/sddefault.jpg',\n",
              "                           'title': 'Joe Rogan & Lex Fridman: Lionel Messi Is '\n",
              "                                    'The GOAT Over Cristiano Ronaldo',\n",
              "                           'url': 'https://youtu.be/bGk8qcHc1A0?t=25',\n",
              "                           'views': 186879.0},\n",
              "              'score': 18.0921059,\n",
              "              'sparseValues': {},\n",
              "              'values': []},\n",
              "             {'id': 'bGk8qcHc1A0-t16',\n",
              "              'metadata': {'end': 21.0,\n",
              "                           'id': 'bGk8qcHc1A0-t16',\n",
              "                           'length': 218.0,\n",
              "                           'start': 16.0,\n",
              "                           'text': ' with the vaccines is probably Messi '\n",
              "                                   \"versus Christiano Ronaldo,  who's the \"\n",
              "                                   'greatest player of all time,  or currently '\n",
              "                                   'playing that divides people too.  But what '\n",
              "                                   \"is the division?  They're just both \"\n",
              "                                   \"incredible.  But what is it like who's \"\n",
              "                                   'better LeBron or Michael Jordan?',\n",
              "                           'thumbnail': 'https://i.ytimg.com/vi/bGk8qcHc1A0/sddefault.jpg',\n",
              "                           'title': 'Joe Rogan & Lex Fridman: Lionel Messi Is '\n",
              "                                    'The GOAT Over Cristiano Ronaldo',\n",
              "                           'url': 'https://youtu.be/bGk8qcHc1A0?t=16',\n",
              "                           'views': 186879.0},\n",
              "              'score': 13.959198,\n",
              "              'sparseValues': {},\n",
              "              'values': []},\n",
              "             {'id': 'bGk8qcHc1A0-t63',\n",
              "              'metadata': {'end': 65.0,\n",
              "                           'id': 'bGk8qcHc1A0-t63',\n",
              "                           'length': 218.0,\n",
              "                           'start': 63.0,\n",
              "                           'text': ' Did you shot was?  Was that not fired?  '\n",
              "                                   \"That was, yeah.  I'm not allowed to loop \"\n",
              "                                   'when it comes to soccer,  but I think you '\n",
              "                                   'just made something.  I think the '\n",
              "                                   'Brazilian resistance.',\n",
              "                           'thumbnail': 'https://i.ytimg.com/vi/bGk8qcHc1A0/sddefault.jpg',\n",
              "                           'title': 'Joe Rogan & Lex Fridman: Lionel Messi Is '\n",
              "                                    'The GOAT Over Cristiano Ronaldo',\n",
              "                           'url': 'https://youtu.be/bGk8qcHc1A0?t=63',\n",
              "                           'views': 186879.0},\n",
              "              'score': 13.3561554,\n",
              "              'sparseValues': {},\n",
              "              'values': []},\n",
              "             {'id': 'bGk8qcHc1A0-t125',\n",
              "              'metadata': {'end': 127.0,\n",
              "                           'id': 'bGk8qcHc1A0-t125',\n",
              "                           'length': 218.0,\n",
              "                           'start': 125.0,\n",
              "                           'text': \" He's always, he's taken him to the final \"\n",
              "                                   'a bunch of times,  but never won.  And so '\n",
              "                                   \"that has to, that's like LeBron \"\n",
              "                                   'questions.  How many times if ever did you '\n",
              "                                   'take your team,  especially when the team '\n",
              "                                   'is not great,  did you make them step up '\n",
              "                                   'to win the championship?',\n",
              "                           'thumbnail': 'https://i.ytimg.com/vi/bGk8qcHc1A0/sddefault.jpg',\n",
              "                           'title': 'Joe Rogan & Lex Fridman: Lionel Messi Is '\n",
              "                                    'The GOAT Over Cristiano Ronaldo',\n",
              "                           'url': 'https://youtu.be/bGk8qcHc1A0?t=125',\n",
              "                           'views': 186879.0},\n",
              "              'score': 12.9184875,\n",
              "              'sparseValues': {},\n",
              "              'values': []},\n",
              "             {'id': 'bGk8qcHc1A0-t42',\n",
              "              'metadata': {'end': 43.0,\n",
              "                           'id': 'bGk8qcHc1A0-t42',\n",
              "                           'length': 218.0,\n",
              "                           'start': 42.0,\n",
              "                           'text': \" How can you?  I'm far by far.  So what I \"\n",
              "                                   'was so sometimes,  well, so it has to do '\n",
              "                                   'with movement.  So it has to do with where '\n",
              "                                   'you put priorities.  So the other people '\n",
              "                                   'in the running for greatest ever,',\n",
              "                           'thumbnail': 'https://i.ytimg.com/vi/bGk8qcHc1A0/sddefault.jpg',\n",
              "                           'title': 'Joe Rogan & Lex Fridman: Lionel Messi Is '\n",
              "                                    'The GOAT Over Cristiano Ronaldo',\n",
              "                           'url': 'https://youtu.be/bGk8qcHc1A0?t=42',\n",
              "                           'views': 186879.0},\n",
              "              'score': 12.1204548,\n",
              "              'sparseValues': {},\n",
              "              'values': []}],\n",
              " 'namespace': ''}"
            ]
          },
          "metadata": {},
          "execution_count": 79
        }
      ]
    }
  ]
}